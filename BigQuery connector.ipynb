{
 "cells": [
  {
   "cell_type": "markdown",
   "metadata": {},
   "source": [
    "Connecting to BigQuery to query the Google Analytics sample. Query needs to be done with standard SQL."
   ]
  },
  {
   "cell_type": "code",
   "execution_count": 82,
   "metadata": {},
   "outputs": [],
   "source": [
    "import pandas as pd\n"
   ]
  },
  {
   "cell_type": "code",
   "execution_count": 83,
   "metadata": {},
   "outputs": [],
   "source": [
    "from google.cloud import bigquery\n",
    "from google.oauth2 import service_account\n"
   ]
  },
  {
   "cell_type": "code",
   "execution_count": 84,
   "metadata": {},
   "outputs": [],
   "source": [
    "# Json file with credentials had to be downloaded from Google Cloud\n",
    "credentials = service_account.Credentials.from_service_account_file(\n",
    "    \"/Users/ana/Coding/google analytics with big query/Google Analytics-b2b53f637daa.json\")\n",
    "project_id = \"diesel-thunder-275017\"\n",
    "client = bigquery.Client(credentials= credentials,project=project_id)"
   ]
  },
  {
   "cell_type": "code",
   "execution_count": 85,
   "metadata": {},
   "outputs": [],
   "source": [
    "query_job = client.query(\"\"\"\n",
    "\n",
    "#standardSQL\n",
    "SELECT\n",
    "fullVisitorId,\n",
    "date,\n",
    "totals.pageviews,\n",
    "totals.timeOnSite,\n",
    "totals.totalTransactionRevenue,\n",
    "trafficSource,\n",
    "device\n",
    "FROM\n",
    "`bigquery-public-data.google_analytics_sample.ga_sessions_*`\n",
    "WHERE\n",
    "_TABLE_SUFFIX BETWEEN '20170701' AND '20170731'\n",
    "AND totals.transactionRevenue IS NOT NULL\n",
    "\"\"\")"
   ]
  },
  {
   "cell_type": "code",
   "execution_count": 86,
   "metadata": {},
   "outputs": [],
   "source": [
    "results = query_job.result()"
   ]
  },
  {
   "cell_type": "code",
   "execution_count": 87,
   "metadata": {
    "scrolled": true
   },
   "outputs": [],
   "source": [
    "ga = results.to_dataframe()\n"
   ]
  },
  {
   "cell_type": "code",
   "execution_count": 88,
   "metadata": {},
   "outputs": [
    {
     "data": {
      "text/html": [
       "<div>\n",
       "<style scoped>\n",
       "    .dataframe tbody tr th:only-of-type {\n",
       "        vertical-align: middle;\n",
       "    }\n",
       "\n",
       "    .dataframe tbody tr th {\n",
       "        vertical-align: top;\n",
       "    }\n",
       "\n",
       "    .dataframe thead th {\n",
       "        text-align: right;\n",
       "    }\n",
       "</style>\n",
       "<table border=\"1\" class=\"dataframe\">\n",
       "  <thead>\n",
       "    <tr style=\"text-align: right;\">\n",
       "      <th></th>\n",
       "      <th>fullVisitorId</th>\n",
       "      <th>date</th>\n",
       "      <th>pageviews</th>\n",
       "      <th>timeOnSite</th>\n",
       "      <th>totalTransactionRevenue</th>\n",
       "      <th>trafficSource</th>\n",
       "      <th>device</th>\n",
       "    </tr>\n",
       "  </thead>\n",
       "  <tbody>\n",
       "    <tr>\n",
       "      <th>0</th>\n",
       "      <td>0794644147217997845</td>\n",
       "      <td>20170714</td>\n",
       "      <td>19</td>\n",
       "      <td>2404</td>\n",
       "      <td>78330000</td>\n",
       "      <td>{'referralPath': None, 'campaign': '(not set)'...</td>\n",
       "      <td>{'browser': 'Chrome', 'browserVersion': 'not a...</td>\n",
       "    </tr>\n",
       "    <tr>\n",
       "      <th>1</th>\n",
       "      <td>9104901150360487546</td>\n",
       "      <td>20170714</td>\n",
       "      <td>19</td>\n",
       "      <td>1520</td>\n",
       "      <td>110990000</td>\n",
       "      <td>{'referralPath': None, 'campaign': 'AW - Dynam...</td>\n",
       "      <td>{'browser': 'Chrome', 'browserVersion': 'not a...</td>\n",
       "    </tr>\n",
       "    <tr>\n",
       "      <th>2</th>\n",
       "      <td>7063315126654210750</td>\n",
       "      <td>20170714</td>\n",
       "      <td>20</td>\n",
       "      <td>882</td>\n",
       "      <td>36940000</td>\n",
       "      <td>{'referralPath': None, 'campaign': '(not set)'...</td>\n",
       "      <td>{'browser': 'Chrome', 'browserVersion': 'not a...</td>\n",
       "    </tr>\n",
       "    <tr>\n",
       "      <th>3</th>\n",
       "      <td>3968161907727043413</td>\n",
       "      <td>20170714</td>\n",
       "      <td>24</td>\n",
       "      <td>367</td>\n",
       "      <td>86990000</td>\n",
       "      <td>{'referralPath': None, 'campaign': '(not set)'...</td>\n",
       "      <td>{'browser': 'Chrome', 'browserVersion': 'not a...</td>\n",
       "    </tr>\n",
       "    <tr>\n",
       "      <th>4</th>\n",
       "      <td>4274511861314211339</td>\n",
       "      <td>20170714</td>\n",
       "      <td>6</td>\n",
       "      <td>113</td>\n",
       "      <td>36000000</td>\n",
       "      <td>{'referralPath': None, 'campaign': '(not set)'...</td>\n",
       "      <td>{'browser': 'Chrome', 'browserVersion': 'not a...</td>\n",
       "    </tr>\n",
       "  </tbody>\n",
       "</table>\n",
       "</div>"
      ],
      "text/plain": [
       "         fullVisitorId      date  pageviews  timeOnSite  \\\n",
       "0  0794644147217997845  20170714         19        2404   \n",
       "1  9104901150360487546  20170714         19        1520   \n",
       "2  7063315126654210750  20170714         20         882   \n",
       "3  3968161907727043413  20170714         24         367   \n",
       "4  4274511861314211339  20170714          6         113   \n",
       "\n",
       "   totalTransactionRevenue                                      trafficSource  \\\n",
       "0                 78330000  {'referralPath': None, 'campaign': '(not set)'...   \n",
       "1                110990000  {'referralPath': None, 'campaign': 'AW - Dynam...   \n",
       "2                 36940000  {'referralPath': None, 'campaign': '(not set)'...   \n",
       "3                 86990000  {'referralPath': None, 'campaign': '(not set)'...   \n",
       "4                 36000000  {'referralPath': None, 'campaign': '(not set)'...   \n",
       "\n",
       "                                              device  \n",
       "0  {'browser': 'Chrome', 'browserVersion': 'not a...  \n",
       "1  {'browser': 'Chrome', 'browserVersion': 'not a...  \n",
       "2  {'browser': 'Chrome', 'browserVersion': 'not a...  \n",
       "3  {'browser': 'Chrome', 'browserVersion': 'not a...  \n",
       "4  {'browser': 'Chrome', 'browserVersion': 'not a...  "
      ]
     },
     "execution_count": 88,
     "metadata": {},
     "output_type": "execute_result"
    }
   ],
   "source": [
    "ga.head()"
   ]
  }
 ],
 "metadata": {
  "kernelspec": {
   "display_name": "Python 3",
   "language": "python",
   "name": "python3"
  },
  "language_info": {
   "codemirror_mode": {
    "name": "ipython",
    "version": 3
   },
   "file_extension": ".py",
   "mimetype": "text/x-python",
   "name": "python",
   "nbconvert_exporter": "python",
   "pygments_lexer": "ipython3",
   "version": "3.7.2"
  }
 },
 "nbformat": 4,
 "nbformat_minor": 2
}
